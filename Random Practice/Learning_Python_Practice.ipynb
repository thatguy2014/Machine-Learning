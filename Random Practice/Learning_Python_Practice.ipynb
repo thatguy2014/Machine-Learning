{
 "cells": [
  {
   "cell_type": "code",
   "execution_count": 3,
   "id": "a117293b",
   "metadata": {},
   "outputs": [
    {
     "name": "stdout",
     "output_type": "stream",
     "text": [
      "Hello, World!\n",
      "Wild\n",
      "2\n"
     ]
    }
   ],
   "source": [
    "import numpy\n",
    "import matplotlib.pyplot as plt\n",
    "import pandas as pd\n",
    "print('Hello, World!')\n",
    "Evan = \"Wild\"\n",
    "print(Evan)\n",
    "Evan = 2\n",
    "print(Evan)"
   ]
  },
  {
   "cell_type": "code",
   "execution_count": 4,
   "id": "0b57d089",
   "metadata": {},
   "outputs": [
    {
     "name": "stdout",
     "output_type": "stream",
     "text": [
      "10\n",
      "7\n",
      "1.0\n",
      "3.0\n"
     ]
    }
   ],
   "source": [
    "John = 3\n",
    "David = 7\n",
    "Aiden = John + David\n",
    "print(Aiden)\n",
    "Aiden -= John\n",
    "print(Aiden)\n",
    "Aiden = Aiden / David\n",
    "print(Aiden)\n",
    "Aiden = Aiden * John\n",
    "print(Aiden)\n"
   ]
  },
  {
   "cell_type": "code",
   "execution_count": null,
   "id": "b3616c74",
   "metadata": {},
   "outputs": [],
   "source": []
  }
 ],
 "metadata": {
  "kernelspec": {
   "display_name": "Python 3 (ipykernel)",
   "language": "python",
   "name": "python3"
  },
  "language_info": {
   "codemirror_mode": {
    "name": "ipython",
    "version": 3
   },
   "file_extension": ".py",
   "mimetype": "text/x-python",
   "name": "python",
   "nbconvert_exporter": "python",
   "pygments_lexer": "ipython3",
   "version": "3.11.5"
  }
 },
 "nbformat": 4,
 "nbformat_minor": 5
}
