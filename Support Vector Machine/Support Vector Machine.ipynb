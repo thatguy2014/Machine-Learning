{
 "cells": [
  {
   "cell_type": "markdown",
   "id": "b4b49dcb",
   "metadata": {},
   "source": [
    "# Importing datasets and libraries"
   ]
  },
  {
   "cell_type": "code",
   "execution_count": 1,
   "id": "abd1d622",
   "metadata": {},
   "outputs": [],
   "source": [
    "from sklearn import datasets \n",
    "#imports the sklearn datasets\n",
    "\n",
    "from sklearn.model_selection import train_test_split \n",
    "#imports the dataset split command\n",
    "\n",
    "from sklearn import svm \n",
    "#imports the svm model\n",
    "\n",
    "from sklearn import metrics\n",
    "#imports the library to test how good the prediction is\n",
    "\n",
    "import numpy as np\n",
    "import matplotlib.pyplot as plt\n",
    "#imports the libraries to plot the output\n",
    "\n",
    "# note I took this example from sciKit's website: https://www.datacamp.com/tutorial/svm-classification-scikit-learn-python\n",
    "# I did this to have a valid dataset and be sure I completely understood SVM\n",
    "# note that this data includes multiple feature with two classifcations being malignant and benign\n",
    "# I also commented the entire code to prove my understanding of it"
   ]
  },
  {
   "cell_type": "markdown",
   "id": "667a92c3",
   "metadata": {},
   "source": [
    "# loading the dataset"
   ]
  },
  {
   "cell_type": "code",
   "execution_count": 2,
   "id": "2eacb1d3",
   "metadata": {},
   "outputs": [],
   "source": [
    "cancer = datasets.load_breast_cancer() \n",
    "#pulls the breast cancer dataset\n",
    "\n",
    "X_train, X_test, y_train, y_test = train_test_split(cancer.data, cancer.target, test_size=0.2,random_state=109)\n",
    "# splits the dataset into an 80/20 train/test split\n"
   ]
  },
  {
   "cell_type": "markdown",
   "id": "f7eca532",
   "metadata": {},
   "source": [
    "# Generating the SVM model"
   ]
  },
  {
   "cell_type": "code",
   "execution_count": 3,
   "id": "29fe02cc",
   "metadata": {},
   "outputs": [],
   "source": [
    "clf = svm.SVC(kernel='linear') \n",
    "# imports the SVM model as a linear kernel\n",
    "\n",
    "clf.fit(X_train, y_train)\n",
    "#fits the SVM model to the training data\n",
    "\n",
    "y_pred = clf.predict(X_test)\n",
    "#predicts the outputs for each value in X_test\n"
   ]
  },
  {
   "cell_type": "markdown",
   "id": "479f4864",
   "metadata": {},
   "source": [
    "# Evaluating the Model"
   ]
  },
  {
   "cell_type": "code",
   "execution_count": 6,
   "id": "576b972a",
   "metadata": {},
   "outputs": [
    {
     "name": "stdout",
     "output_type": "stream",
     "text": [
      "Accuracy: 0.956140350877193\n",
      "Recall: 0.9459459459459459\n",
      "Precision: 0.9859154929577465\n",
      "[[39  1]\n",
      " [ 4 70]]\n"
     ]
    }
   ],
   "source": [
    "from sklearn.metrics import confusion_matrix\n",
    "\n",
    "print(\"Accuracy:\",metrics.accuracy_score(y_test, y_pred))\n",
    "# prints the accuracy of the SVM\n",
    "\n",
    "print(\"Recall:\",metrics.recall_score(y_test, y_pred))\n",
    "#prints the recall of the SVM\n",
    "\n",
    "print(\"Precision:\",metrics.precision_score(y_test, y_pred))\n",
    "#prints the Precision of the SVM\n",
    "\n",
    "cm = confusion_matrix(y_test, y_pred)\n",
    "print(cm)\n",
    "#confusion matrix aids in visualizing the failures of accuracy"
   ]
  },
  {
   "cell_type": "code",
   "execution_count": null,
   "id": "00a9c623",
   "metadata": {},
   "outputs": [],
   "source": []
  }
 ],
 "metadata": {
  "kernelspec": {
   "display_name": "Python 3 (ipykernel)",
   "language": "python",
   "name": "python3"
  },
  "language_info": {
   "codemirror_mode": {
    "name": "ipython",
    "version": 3
   },
   "file_extension": ".py",
   "mimetype": "text/x-python",
   "name": "python",
   "nbconvert_exporter": "python",
   "pygments_lexer": "ipython3",
   "version": "3.11.5"
  }
 },
 "nbformat": 4,
 "nbformat_minor": 5
}
